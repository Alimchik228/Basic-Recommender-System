{
 "cells": [
  {
   "cell_type": "code",
   "execution_count": 1,
   "id": "0b419d66",
   "metadata": {},
   "outputs": [],
   "source": [
    "%matplotlib inline\n",
    "import matplotlib.pyplot as plt\n",
    "import seaborn as sns\n",
    "import pandas as pd\n",
    "import numpy as np"
   ]
  },
  {
   "cell_type": "code",
   "execution_count": 2,
   "id": "8002daeb",
   "metadata": {},
   "outputs": [],
   "source": [
    "from pyspark.sql import SparkSession \n",
    "spark = SparkSession.builder.getOrCreate()"
   ]
  },
  {
   "cell_type": "code",
   "execution_count": 3,
   "id": "44b35c17",
   "metadata": {},
   "outputs": [],
   "source": [
    "\n",
    "Data_dir = \"D:/recommender_systems/movie\""
   ]
  },
  {
   "cell_type": "code",
   "execution_count": 4,
   "id": "fdd6889b",
   "metadata": {},
   "outputs": [],
   "source": [
    "import os\n",
    "import pyspark.sql.functions as F"
   ]
  },
  {
   "cell_type": "code",
   "execution_count": 5,
   "id": "f2dbcf4f",
   "metadata": {},
   "outputs": [],
   "source": [
    "ratings = (\n",
    "    spark\n",
    "    .read\n",
    "    .csv(\n",
    "        os.path.join(Data_dir, \"ratings.csv\"),\n",
    "        header = True,\n",
    "        inferSchema = True \n",
    "    )\n",
    "    .sample(withReplacement = False, fraction = 0.1, seed = 0)    \n",
    "    .withColumn(\"rating_datetime\", F.from_unixtime(\"timestamp\"))\n",
    "    .drop(\"timestamp\")\n",
    "    )"
   ]
  },
  {
   "cell_type": "code",
   "execution_count": 6,
   "id": "10fa8bcf",
   "metadata": {},
   "outputs": [
    {
     "name": "stdout",
     "output_type": "stream",
     "text": [
      "Всего пользователей:  229690\n",
      "Всего фильмов:  26221\n",
      "Всего оценок:   2601951\n"
     ]
    }
   ],
   "source": [
    "print(\"Всего пользователей: \", ratings.select(\"userID\").distinct().count())\n",
    "print(\"Всего фильмов: \", ratings.select(\"movieId\").distinct().count())\n",
    "print(\"Всего оценок:  \", ratings.count())"
   ]
  },
  {
   "cell_type": "code",
   "execution_count": 7,
   "id": "75398f48",
   "metadata": {},
   "outputs": [
    {
     "name": "stdout",
     "output_type": "stream",
     "text": [
      "Средняя оценка:  3.527088519345676\n"
     ]
    }
   ],
   "source": [
    "mean_rating = ratings.agg(F.avg(\"rating\")).first()[0]\n",
    "print(\"Средняя оценка: \", mean_rating)\n"
   ]
  },
  {
   "cell_type": "code",
   "execution_count": 8,
   "id": "04d36b52",
   "metadata": {},
   "outputs": [],
   "source": [
    "from pyspark.sql import DataFrame"
   ]
  },
  {
   "cell_type": "code",
   "execution_count": 9,
   "id": "dbb98f29",
   "metadata": {},
   "outputs": [],
   "source": [
    "def simple_evaluate(predictions_df: DataFrame) -> float:\n",
    "    return np.sqrt(\n",
    "            ratings\n",
    "            .join(\n",
    "                predictions_df, \n",
    "                [\"movieId\", \"userId\", \"rating\"]\n",
    "            ).select(\n",
    "                F.pow(\n",
    "                    ratings.rating - predictions_df.prediction,\n",
    "                    2\n",
    "                ).alias(\"squared_error\")\n",
    "            )\n",
    "            .agg(F.avg(\"squared_error\"))\n",
    "            .first()[0]\n",
    "    )"
   ]
  },
  {
   "cell_type": "code",
   "execution_count": 10,
   "id": "6da09021",
   "metadata": {},
   "outputs": [],
   "source": [
    "def simple_evaluate2(predictions_df: DataFrame) -> float:\n",
    "    return np.sqrt(\n",
    "            ratings\n",
    "            .join(\n",
    "                predictions_df, \n",
    "                [\"movieId\", \"userId\"]\n",
    "            ).select(\n",
    "                F.pow(\n",
    "                    ratings.rating - predictions_df.prediction,\n",
    "                    2\n",
    "                ).alias(\"squared_error\")\n",
    "            )\n",
    "            .agg(F.avg(\"squared_error\"))\n",
    "            .first()[0]\n",
    "    )"
   ]
  },
  {
   "cell_type": "code",
   "execution_count": 11,
   "id": "613f889e",
   "metadata": {},
   "outputs": [],
   "source": [
    "mean_predictions = ratings.withColumn(\"prediction\", F.lit(mean_rating))"
   ]
  },
  {
   "cell_type": "code",
   "execution_count": 12,
   "id": "c211b78c",
   "metadata": {},
   "outputs": [
    {
     "name": "stdout",
     "output_type": "stream",
     "text": [
      "Ошибка предсказания:  1.0658290201447025\n"
     ]
    }
   ],
   "source": [
    "print(\"Ошибка предсказания: \", simple_evaluate(mean_predictions))"
   ]
  },
  {
   "cell_type": "code",
   "execution_count": 13,
   "id": "7f3ec586",
   "metadata": {},
   "outputs": [],
   "source": [
    "movie_ratings = (\n",
    "                ratings \n",
    "                .groupBy(\"movieId\")\n",
    "                .agg(F.avg(\"rating\").alias(\"avg_movie_rating\"))\n",
    "                .cache()\n",
    ")"
   ]
  },
  {
   "cell_type": "code",
   "execution_count": 14,
   "id": "6c36c2fa",
   "metadata": {},
   "outputs": [
    {
     "name": "stdout",
     "output_type": "stream",
     "text": [
      "+-------+------------------+\n",
      "|movieId|  avg_movie_rating|\n",
      "+-------+------------------+\n",
      "|   1580|3.5595408895265424|\n",
      "|    471|3.6117363344051445|\n",
      "|   1088| 3.245185185185185|\n",
      "|   1959|  3.63614262560778|\n",
      "|   3175|3.5830367734282325|\n",
      "|   2142| 2.946360153256705|\n",
      "|   1645| 3.512127512127512|\n",
      "|  54190| 3.635321100917431|\n",
      "|   2366| 3.512295081967213|\n",
      "|  44022|3.3390243902439023|\n",
      "|   1591| 2.621187800963082|\n",
      "|   8638|3.9571713147410357|\n",
      "|   5803| 2.716417910447761|\n",
      "|   1342| 2.875661375661376|\n",
      "|   6466| 3.659090909090909|\n",
      "|    496|3.1363636363636362|\n",
      "|   4519| 3.248062015503876|\n",
      "|  96488|3.9342105263157894|\n",
      "|  68135|3.1365638766519823|\n",
      "|   3794|3.3908045977011496|\n",
      "+-------+------------------+\n",
      "only showing top 20 rows\n",
      "\n"
     ]
    }
   ],
   "source": [
    "movie_ratings.show()"
   ]
  },
  {
   "cell_type": "code",
   "execution_count": 15,
   "id": "0e144daa",
   "metadata": {},
   "outputs": [
    {
     "data": {
      "image/png": "[encoded data removed]",
      "text/plain": [
       "<Figure size 432x288 with 1 Axes>"
      ]
     },
     "metadata": {},
     "output_type": "display_data"
    }
   ],
   "source": [
    "histogram = ( \n",
    "    movie_ratings\n",
    "    .select((0.5 * F.ceil(2 * F.col(\"avg_movie_rating\")))\n",
    "    .alias(\"avg_movie_rating\"))\n",
    "    .groupBy(\"avg_movie_rating\")\n",
    "    .agg(F.count(\"avg_movie_rating\").alias(\"cnt\"))\n",
    "    .orderBy(\"avg_movie_rating\")\n",
    "    .toPandas()\n",
    ")\n",
    "sns.set()\n",
    "histogram.plot(x = \"avg_movie_rating\", y = \"cnt\")\n",
    "plt.show()"
   ]
  },
  {
   "cell_type": "code",
   "execution_count": 16,
   "id": "c2b66b16",
   "metadata": {},
   "outputs": [],
   "source": [
    "avg_movie_rating_prediction = (\n",
    "    ratings\n",
    "    .join(movie_ratings, \"movieId\")\n",
    "    .select(\n",
    "        ratings.movieId,\n",
    "        ratings.userId,\n",
    "        ratings.rating,\n",
    "        movie_ratings.avg_movie_rating.alias(\"prediction\")\n",
    "    )    \n",
    ")\n"
   ]
  },
  {
   "cell_type": "code",
   "execution_count": 17,
   "id": "0d058364",
   "metadata": {},
   "outputs": [
    {
     "name": "stdout",
     "output_type": "stream",
     "text": [
      "+-------+------+------+------------------+\n",
      "|movieId|userId|rating|        prediction|\n",
      "+-------+------+------+------------------+\n",
      "|    858|     1|   5.0| 4.343411952473843|\n",
      "|   4226|     1|   4.0| 4.160517489218974|\n",
      "|  68358|     1|   5.0|3.8830532212885154|\n",
      "| 112552|     1|   5.0| 4.028606965174129|\n",
      "|   1356|     2|   5.0| 3.658658204895739|\n",
      "|   3101|     3|   3.0|3.4459561602418747|\n",
      "|   4474|     3|   3.0| 3.070945945945946|\n",
      "|   1422|     4|   4.0| 3.145631067961165|\n",
      "|   2443|     4|   4.0|3.4398496240601504|\n",
      "|   2875|     4|   4.0|3.1209302325581394|\n",
      "|   4014|     4|   4.0| 3.699155794320798|\n",
      "|    858|     5|   5.0| 4.343411952473843|\n",
      "|   1945|     5|   5.0|  4.18287037037037|\n",
      "|   2707|     5|   5.0|3.4407894736842106|\n",
      "|   3198|     5|   4.0| 3.948374760994264|\n",
      "|   1198|     6|   3.0| 4.130514705882353|\n",
      "|   8961|     7|   2.5| 3.857924461701377|\n",
      "|  50872|     7|   4.0|3.8106595995288575|\n",
      "|  54503|     7|   3.5|3.7136237256719182|\n",
      "|  60074|     7|   1.0| 3.165402124430956|\n",
      "+-------+------+------+------------------+\n",
      "only showing top 20 rows\n",
      "\n"
     ]
    }
   ],
   "source": [
    "avg_movie_rating_prediction.show()"
   ]
  },
  {
   "cell_type": "code",
   "execution_count": 18,
   "id": "35d04241",
   "metadata": {},
   "outputs": [
    {
     "name": "stdout",
     "output_type": "stream",
     "text": [
      "Ошибка предсказания:  0.9571532518987653\n"
     ]
    }
   ],
   "source": [
    "print(\"Ошибка предсказания: \", simple_evaluate(avg_movie_rating_prediction))"
   ]
  },
  {
   "cell_type": "code",
   "execution_count": 19,
   "id": "ec51d9fd",
   "metadata": {},
   "outputs": [],
   "source": [
    "user_ratings = (\n",
    "    ratings\n",
    "    .groupBy(\"userId\")\n",
    "    .agg(F.avg(\"rating\").alias(\"avg_user_rating\"))\n",
    "    .cache()\n",
    ")"
   ]
  },
  {
   "cell_type": "code",
   "execution_count": 20,
   "id": "8c2914c8",
   "metadata": {},
   "outputs": [
    {
     "name": "stdout",
     "output_type": "stream",
     "text": [
      "+------+------------------+\n",
      "|userId|   avg_user_rating|\n",
      "+------+------------------+\n",
      "|   148|               3.7|\n",
      "|   463|2.7777777777777777|\n",
      "|   471|3.5789473684210527|\n",
      "|  1088|               5.0|\n",
      "|  1238| 4.166666666666667|\n",
      "|  1342|               3.5|\n",
      "|  1580|               0.5|\n",
      "|  1591| 4.333333333333333|\n",
      "|  1645|3.0714285714285716|\n",
      "|  1829|               3.7|\n",
      "|  1959|               3.0|\n",
      "|  2142|               5.0|\n",
      "|  2366| 3.725806451612903|\n",
      "|  2659|              4.04|\n",
      "|  2866|               3.5|\n",
      "|  3175|               4.0|\n",
      "|  3794| 4.818181818181818|\n",
      "|  3918|               4.0|\n",
      "|  3997|4.0588235294117645|\n",
      "|  4101|               4.0|\n",
      "+------+------------------+\n",
      "only showing top 20 rows\n",
      "\n"
     ]
    }
   ],
   "source": [
    "user_ratings.show()"
   ]
  },
  {
   "cell_type": "code",
   "execution_count": 21,
   "id": "47d874a2",
   "metadata": {},
   "outputs": [
    {
     "data": {
      "image/png": "[encoded data removed]",
      "text/plain": [
       "<Figure size 432x288 with 1 Axes>"
      ]
     },
     "metadata": {},
     "output_type": "display_data"
    }
   ],
   "source": [
    "histogram = ( \n",
    "    user_ratings\n",
    "    .select((0.5 * F.ceil(2 * F.col(\"avg_user_rating\")))\n",
    "    .alias(\"avg_user_rating\"))\n",
    "    .groupBy(\"avg_user_rating\")\n",
    "    .agg(F.count(\"avg_user_rating\").alias(\"cnt\"))\n",
    "    .orderBy(\"avg_user_rating\")\n",
    "    .toPandas()\n",
    ")\n",
    "sns.set()\n",
    "histogram.plot(x = \"avg_user_rating\", y = \"cnt\")\n",
    "plt.show()"
   ]
  },
  {
   "cell_type": "code",
   "execution_count": 22,
   "id": "8577e20b",
   "metadata": {},
   "outputs": [
    {
     "name": "stdout",
     "output_type": "stream",
     "text": [
      "+-------+------+------+------------------+\n",
      "|movieId|userId|rating|        prediction|\n",
      "+-------+------+------+------------------+\n",
      "|    858|     1|   5.0| 4.546705976236922|\n",
      "|   4226|     1|   4.0| 4.455258744609488|\n",
      "|  68358|     1|   5.0|4.3165266106442575|\n",
      "| 112552|     1|   5.0|4.3893034825870645|\n",
      "|   1356|     2|   5.0| 4.329329102447869|\n",
      "|   3101|     3|   3.0|3.2229780801209373|\n",
      "|   4474|     3|   3.0| 3.035472972972973|\n",
      "|   1422|     4|   4.0|3.5728155339805827|\n",
      "|   2443|     4|   4.0| 3.719924812030075|\n",
      "|   2875|     4|   4.0|3.5604651162790697|\n",
      "|   4014|     4|   4.0|3.8495778971603993|\n",
      "|    858|     5|   5.0| 4.546705976236922|\n",
      "|   1945|     5|   5.0| 4.466435185185185|\n",
      "|   2707|     5|   5.0| 4.095394736842105|\n",
      "|   3198|     5|   4.0| 4.349187380497132|\n",
      "|   1198|     6|   3.0|3.5652573529411766|\n",
      "|   8961|     7|   2.5| 3.303962230850688|\n",
      "|  50872|     7|   4.0| 3.280329799764429|\n",
      "|  54503|     7|   3.5| 3.231811862835959|\n",
      "|  60074|     7|   1.0|2.9577010622154782|\n",
      "+-------+------+------+------------------+\n",
      "only showing top 20 rows\n",
      "\n"
     ]
    }
   ],
   "source": [
    "two_means_prediction = (\n",
    "    ratings\n",
    "    .join(user_ratings, \"userId\")\n",
    "    .join(movie_ratings, \"movieId\")\n",
    "    .select(\n",
    "        ratings.movieId,\n",
    "        ratings.userId,\n",
    "        ratings.rating,       \n",
    "        (0.5*(user_ratings.avg_user_rating + movie_ratings.avg_movie_rating)).alias(\"prediction\"))\n",
    "    )\n",
    "two_means_prediction.show()  "
   ]
  },
  {
   "cell_type": "code",
   "execution_count": 23,
   "id": "338f8292",
   "metadata": {},
   "outputs": [
    {
     "name": "stdout",
     "output_type": "stream",
     "text": [
      "Ошибка предсказания:  0.8773694669875353\n"
     ]
    }
   ],
   "source": [
    "print(\"Ошибка предсказания: \", simple_evaluate(two_means_prediction))"
   ]
  },
  {
   "cell_type": "code",
   "execution_count": 24,
   "id": "067946e7",
   "metadata": {},
   "outputs": [],
   "source": [
    "kol_users_month = (\n",
    "    ratings\n",
    "    .select(\n",
    "        \"userId\",\n",
    "        F.year(\"rating_datetime\").alias(\"year\"),\n",
    "        F.month(\"rating_datetime\").alias(\"month\")    \n",
    "    )\n",
    "    .groupBy(\"month\", \"year\")\n",
    "    .agg(F.countDistinct(\"userId\").alias(\"colUsers\"))\n",
    "    .orderBy(\"month\", \"year\")\n",
    "    .toPandas()\n",
    ")"
   ]
  },
  {
   "cell_type": "code",
   "execution_count": 25,
   "id": "2e3cdb67",
   "metadata": {},
   "outputs": [
    {
     "data": {
      "image/png": "[encoded data removed]",
      "text/plain": [
       "<Figure size 432x288 with 1 Axes>"
      ]
     },
     "metadata": {},
     "output_type": "display_data"
    }
   ],
   "source": [
    "\n",
    "sns.set()\n",
    "kol_users_month.plot(x = \"month\", y = \"colUsers\")\n",
    "plt.show()"
   ]
  },
  {
   "cell_type": "code",
   "execution_count": 26,
   "id": "a6da249b",
   "metadata": {},
   "outputs": [],
   "source": [
    "kol_users_month2 = (\n",
    "    ratings\n",
    "    .select(\n",
    "        \"userId\",\n",
    "        F.month(\"rating_datetime\").alias(\"month\")    \n",
    "    )\n",
    "    .groupBy(\"month\")\n",
    "    .agg(F.countDistinct(\"userId\").alias(\"colUsers\"))\n",
    "    .orderBy(\"month\")\n",
    "    .toPandas()\n",
    ")"
   ]
  },
  {
   "cell_type": "code",
   "execution_count": 27,
   "id": "15bb48a6",
   "metadata": {},
   "outputs": [
    {
     "data": {
      "image/png": "[encoded data removed]",
      "text/plain": [
       "<Figure size 432x288 with 1 Axes>"
      ]
     },
     "metadata": {},
     "output_type": "display_data"
    }
   ],
   "source": [
    "sns.set()\n",
    "kol_users_month2.plot(x = \"month\", y = \"colUsers\")\n",
    "plt.show()"
   ]
  },
  {
   "cell_type": "code",
   "execution_count": 28,
   "id": "59328f89",
   "metadata": {},
   "outputs": [
    {
     "data": {
      "text/html": [
       "<div>\n",
       "<style scoped>\n",
       "    .dataframe tbody tr th:only-of-type {\n",
       "        vertical-align: middle;\n",
       "    }\n",
       "\n",
       "    .dataframe tbody tr th {\n",
       "        vertical-align: top;\n",
       "    }\n",
       "\n",
       "    .dataframe thead th {\n",
       "        text-align: right;\n",
       "    }\n",
       "</style>\n",
       "<table border=\"1\" class=\"dataframe\">\n",
       "  <thead>\n",
       "    <tr style=\"text-align: right;\">\n",
       "      <th></th>\n",
       "      <th>month</th>\n",
       "      <th>year</th>\n",
       "      <th>colUsers</th>\n",
       "    </tr>\n",
       "  </thead>\n",
       "  <tbody>\n",
       "    <tr>\n",
       "      <th>0</th>\n",
       "      <td>1</td>\n",
       "      <td>1996</td>\n",
       "      <td>5</td>\n",
       "    </tr>\n",
       "    <tr>\n",
       "      <th>1</th>\n",
       "      <td>1</td>\n",
       "      <td>1997</td>\n",
       "      <td>2694</td>\n",
       "    </tr>\n",
       "    <tr>\n",
       "      <th>2</th>\n",
       "      <td>1</td>\n",
       "      <td>1998</td>\n",
       "      <td>467</td>\n",
       "    </tr>\n",
       "    <tr>\n",
       "      <th>3</th>\n",
       "      <td>1</td>\n",
       "      <td>1999</td>\n",
       "      <td>373</td>\n",
       "    </tr>\n",
       "    <tr>\n",
       "      <th>4</th>\n",
       "      <td>1</td>\n",
       "      <td>2000</td>\n",
       "      <td>2431</td>\n",
       "    </tr>\n",
       "    <tr>\n",
       "      <th>5</th>\n",
       "      <td>1</td>\n",
       "      <td>2001</td>\n",
       "      <td>2108</td>\n",
       "    </tr>\n",
       "    <tr>\n",
       "      <th>6</th>\n",
       "      <td>1</td>\n",
       "      <td>2002</td>\n",
       "      <td>1825</td>\n",
       "    </tr>\n",
       "    <tr>\n",
       "      <th>7</th>\n",
       "      <td>1</td>\n",
       "      <td>2003</td>\n",
       "      <td>1972</td>\n",
       "    </tr>\n",
       "    <tr>\n",
       "      <th>8</th>\n",
       "      <td>1</td>\n",
       "      <td>2004</td>\n",
       "      <td>1596</td>\n",
       "    </tr>\n",
       "    <tr>\n",
       "      <th>9</th>\n",
       "      <td>1</td>\n",
       "      <td>2005</td>\n",
       "      <td>1856</td>\n",
       "    </tr>\n",
       "    <tr>\n",
       "      <th>10</th>\n",
       "      <td>1</td>\n",
       "      <td>2006</td>\n",
       "      <td>1958</td>\n",
       "    </tr>\n",
       "    <tr>\n",
       "      <th>11</th>\n",
       "      <td>1</td>\n",
       "      <td>2007</td>\n",
       "      <td>1889</td>\n",
       "    </tr>\n",
       "    <tr>\n",
       "      <th>12</th>\n",
       "      <td>1</td>\n",
       "      <td>2008</td>\n",
       "      <td>1846</td>\n",
       "    </tr>\n",
       "    <tr>\n",
       "      <th>13</th>\n",
       "      <td>1</td>\n",
       "      <td>2009</td>\n",
       "      <td>2147</td>\n",
       "    </tr>\n",
       "    <tr>\n",
       "      <th>14</th>\n",
       "      <td>1</td>\n",
       "      <td>2010</td>\n",
       "      <td>1817</td>\n",
       "    </tr>\n",
       "    <tr>\n",
       "      <th>15</th>\n",
       "      <td>1</td>\n",
       "      <td>2011</td>\n",
       "      <td>1821</td>\n",
       "    </tr>\n",
       "    <tr>\n",
       "      <th>16</th>\n",
       "      <td>1</td>\n",
       "      <td>2012</td>\n",
       "      <td>1279</td>\n",
       "    </tr>\n",
       "    <tr>\n",
       "      <th>17</th>\n",
       "      <td>1</td>\n",
       "      <td>2013</td>\n",
       "      <td>1476</td>\n",
       "    </tr>\n",
       "    <tr>\n",
       "      <th>18</th>\n",
       "      <td>1</td>\n",
       "      <td>2014</td>\n",
       "      <td>1252</td>\n",
       "    </tr>\n",
       "    <tr>\n",
       "      <th>19</th>\n",
       "      <td>1</td>\n",
       "      <td>2015</td>\n",
       "      <td>1552</td>\n",
       "    </tr>\n",
       "  </tbody>\n",
       "</table>\n",
       "</div>"
      ],
      "text/plain": [
       "    month  year  colUsers\n",
       "0       1  1996         5\n",
       "1       1  1997      2694\n",
       "2       1  1998       467\n",
       "3       1  1999       373\n",
       "4       1  2000      2431\n",
       "5       1  2001      2108\n",
       "6       1  2002      1825\n",
       "7       1  2003      1972\n",
       "8       1  2004      1596\n",
       "9       1  2005      1856\n",
       "10      1  2006      1958\n",
       "11      1  2007      1889\n",
       "12      1  2008      1846\n",
       "13      1  2009      2147\n",
       "14      1  2010      1817\n",
       "15      1  2011      1821\n",
       "16      1  2012      1279\n",
       "17      1  2013      1476\n",
       "18      1  2014      1252\n",
       "19      1  2015      1552"
      ]
     },
     "execution_count": 28,
     "metadata": {},
     "output_type": "execute_result"
    }
   ],
   "source": [
    "kol_users_month.head(20)"
   ]
  },
  {
   "cell_type": "code",
   "execution_count": 29,
   "id": "4cbf66bf",
   "metadata": {},
   "outputs": [],
   "source": [
    "from pyspark.ml.feature import VectorAssembler\n",
    "from pyspark.ml.regression import LinearRegression"
   ]
  },
  {
   "cell_type": "code",
   "execution_count": 30,
   "id": "e59860e1",
   "metadata": {},
   "outputs": [
    {
     "name": "stdout",
     "output_type": "stream",
     "text": [
      "Ошибка предсказания 0.8360749293039146\n"
     ]
    }
   ],
   "source": [
    "train = (\n",
    "    VectorAssembler(\n",
    "        inputCols = (\"avg_movie_rating\", \"avg_user_rating\"),\n",
    "        outputCol = \"features\"\n",
    "    ).transform(\n",
    "        ratings\n",
    "        .join(movie_ratings, \"movieId\")\n",
    "        .join(user_ratings, \"userId\")\n",
    "    )\n",
    "    .withColumnRenamed(\"rating\", \"label\")\n",
    "    .select(\"movieId\", \"userId\", \"label\", \"features\")\n",
    "    .cache()\n",
    "    )\n",
    "\n",
    "\n",
    "linear_model = LinearRegression().fit(train)\n",
    "stacked_prediction = (\n",
    "    ratings\n",
    "    .join(linear_model.transform(train), [\"movieId\", \"userId\"])\n",
    "    .select(\"movieId\", \"userId\", \"prediction\")\n",
    ")\n",
    "\n",
    "print(\"Ошибка предсказания\", simple_evaluate2(stacked_prediction))\n"
   ]
  },
  {
   "cell_type": "code",
   "execution_count": 1,
   "id": "5861c6d6",
   "metadata": {},
   "outputs": [],
   "source": [
    "import re"
   ]
  },
  {
   "cell_type": "code",
   "execution_count": 38,
   "id": "731f6312",
   "metadata": {},
   "outputs": [
    {
     "name": "stdout",
     "output_type": "stream",
     "text": [
      "На сколько наш пользователь оценит фильм = -2.33 + 0.8 * Средняя оценка этого фильма + 0.86 * Средняя оценка пользователя\n"
     ]
    }
   ],
   "source": [
    "print(\n",
    "    \"На сколько наш пользователь оценит фильм = {} + {} * Средняя оценка этого фильма + {} * Средняя оценка пользователя\"\n",
    "    .format(\n",
    "        round(linear_model.intercept, 2),\n",
    "        round(linear_model.coefficients[0], 2),\n",
    "        round(linear_model.coefficients[1], 2)   \n",
    "    )\n",
    ")"
   ]
  },
  {
   "cell_type": "code",
   "execution_count": 37,
   "id": "a02c2251",
   "metadata": {},
   "outputs": [
    {
     "name": "stdout",
     "output_type": "stream",
     "text": [
      "\n"
     ]
    }
   ],
   "source": []
  },
  {
   "cell_type": "code",
   "execution_count": null,
   "id": "66648e6c",
   "metadata": {},
   "outputs": [],
   "source": []
  }
 ],
 "metadata": {
  "kernelspec": {
   "display_name": "Python 3 (ipykernel)",
   "language": "python",
   "name": "python3"
  },
  "language_info": {
   "codemirror_mode": {
    "name": "ipython",
    "version": 3
   },
   "file_extension": ".py",
   "mimetype": "text/x-python",
   "name": "python",
   "nbconvert_exporter": "python",
   "pygments_lexer": "ipython3",
   "version": "3.9.7"
  }
 },
 "nbformat": 4,
 "nbformat_minor": 5
}
